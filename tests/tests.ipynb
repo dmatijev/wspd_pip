{
 "cells": [
  {
   "cell_type": "code",
   "execution_count": 1,
   "id": "eb366ccb-1789-42ea-a6fb-241b6e8ef7e6",
   "metadata": {},
   "outputs": [],
   "source": [
    "import wspd\n",
    "import numpy as np\n",
    "import time"
   ]
  },
  {
   "cell_type": "code",
   "execution_count": 2,
   "id": "d22b7e20-ea60-4eea-a955-d542345fab84",
   "metadata": {},
   "outputs": [
    {
     "name": "stdout",
     "output_type": "stream",
     "text": [
      "WSPD: S=4.0, 5000 points, dim=2 is constructed in  0.2467 sec and size 118804\n",
      "WSPD: S=4.0, 5000 points, dim=3 is constructed in  1.2261 sec and size 555704\n",
      "WSPD: S=8.0, 5000 points, dim=2 is constructed in  0.7401 sec and size 302722\n",
      "\n",
      "WSPD: S=4.0, 10000 points, dim=2 is constructed in  0.4234 sec and size 246171\n",
      "WSPD: S=4.0, 10000 points, dim=3 is constructed in  3.0282 sec and size 1308419\n",
      "WSPD: S=8.0, 10000 points, dim=2 is constructed in  1.1843 sec and size 658001\n",
      "\n",
      "WSPD: S=4.0, 20000 points, dim=2 is constructed in  1.4434 sec and size 515862\n",
      "WSPD: S=4.0, 20000 points, dim=3 is constructed in  7.0037 sec and size 2925294\n",
      "WSPD: S=8.0, 20000 points, dim=2 is constructed in  2.7173 sec and size 1369137\n",
      "\n",
      "WSPD: S=4.0, 50000 points, dim=2 is constructed in  3.6311 sec and size 1337298\n",
      "WSPD: S=4.0, 50000 points, dim=3 is constructed in  19.1908 sec and size 8319381\n",
      "WSPD: S=8.0, 50000 points, dim=2 is constructed in  11.2752 sec and size 3568998\n",
      "\n",
      "WSPD: S=4.0, 100000 points, dim=2 is constructed in  5.6206 sec and size 2692585\n",
      "WSPD: S=4.0, 100000 points, dim=3 is constructed in  44.4819 sec and size 18054787\n",
      "WSPD: S=8.0, 100000 points, dim=2 is constructed in  17.0848 sec and size 7388952\n",
      "\n"
     ]
    }
   ],
   "source": [
    "# Running time and the WSPD size experiments with respect to the number of points, the dimension and the separation constant\n",
    "\n",
    "sep_const = [4.0, 8.0] # separation constant\n",
    "dimensions = [2, 3]\n",
    "nr_points = [5000, 10000, 20000, 50000, 100000]\n",
    "\n",
    "np.random.seed(42) # Fix the seed\n",
    "\n",
    "for nr_pts in nr_points:\n",
    "    for S in sep_const:\n",
    "        for dim in dimensions:\n",
    "            if dim == 3 and S == 8.0:\n",
    "                break # don't execute unless you have a lot of RAM (> 64GB)\n",
    "            #data = np.random.normal(size = (nr_pts, dim))\n",
    "            data = np.random.uniform(size = (nr_pts, dim))\n",
    "            \n",
    "            data_pts = data.tolist()\n",
    "            data_pts = [wspd.point(p) for p in data_pts] # move points to point class objects \n",
    "\n",
    "            tic = time.perf_counter()\n",
    "            dumbbells = wspd.build_wspd(nr_pts, dim, S, data_pts) # compute WSPD\n",
    "            toc = time.perf_counter()\n",
    "\n",
    "            print(f\"WSPD: S={S}, {nr_pts} points, dim={dim} is constructed in  {toc - tic:0.4f} sec and size {len(dumbbells)}\")\n",
    "    print()    \n",
    "        "
   ]
  }
 ],
 "metadata": {
  "kernelspec": {
   "display_name": "Python 3 (ipykernel)",
   "language": "python",
   "name": "python3"
  },
  "language_info": {
   "codemirror_mode": {
    "name": "ipython",
    "version": 3
   },
   "file_extension": ".py",
   "mimetype": "text/x-python",
   "name": "python",
   "nbconvert_exporter": "python",
   "pygments_lexer": "ipython3",
   "version": "3.8.16"
  }
 },
 "nbformat": 4,
 "nbformat_minor": 5
}
